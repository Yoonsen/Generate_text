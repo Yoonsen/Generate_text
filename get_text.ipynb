{
 "cells": [
  {
   "cell_type": "code",
   "execution_count": 13,
   "id": "a5bccebf-c3a5-479f-b7e5-a6bae3570991",
   "metadata": {},
   "outputs": [],
   "source": [
    "import pandas as pd\n",
    "import requests\n",
    "import dhlab as dh\n",
    "\n",
    "import random as ran"
   ]
  },
  {
   "cell_type": "code",
   "execution_count": 4,
   "id": "b6484ef8-7738-4a57-967d-b481ff7513ec",
   "metadata": {},
   "outputs": [],
   "source": [
    "def get_text(urn):\n",
    "    res = requests.get(f\"http://sprakbankdb2.lx.nb.no:7007/text?identifier={urn}\")\n",
    "    if res.status_code == 200:\n",
    "        result =res.text\n",
    "    else:\n",
    "        result = \"\"\n",
    "    return result"
   ]
  },
  {
   "cell_type": "code",
   "execution_count": 8,
   "id": "fe550f90-2dce-49dd-8642-b4fd9e9e93c4",
   "metadata": {},
   "outputs": [],
   "source": [
    "corpus = dh.Corpus(doctype=\"digibok\", from_year = 1814, to_year = 1905, limit = 50).frame"
   ]
  },
  {
   "cell_type": "code",
   "execution_count": 10,
   "id": "6e3de515-1bfe-4dc8-851d-6ed244495cfa",
   "metadata": {},
   "outputs": [],
   "source": [
    "#corpus[corpus.dhlabid> 100600000]"
   ]
  },
  {
   "cell_type": "code",
   "execution_count": 49,
   "id": "6281dccf-3e1c-4022-a49c-a12b859811ac",
   "metadata": {},
   "outputs": [],
   "source": [
    "\n",
    "def select(text, size=1000):\n",
    "    maxnum = len(text)\n",
    "    num = ran.randint(1, maxnum)\n",
    "    print(num)\n",
    "    return text[num:num+size]"
   ]
  },
  {
   "cell_type": "code",
   "execution_count": 54,
   "id": "9e0639ce-4901-41d1-b247-5a7ae7b86022",
   "metadata": {},
   "outputs": [
    {
     "name": "stdout",
     "output_type": "stream",
     "text": [
      "CPU times: user 0 ns, sys: 14 µs, total: 14 µs\n",
      "Wall time: 24.1 µs\n",
      "URN:NBN:no-nb_digibok_2014021008015\n",
      "246887\n"
     ]
    },
    {
     "data": {
      "text/plain": [
       "'\\nLyriske digtninger i vers og pros : . 111\\nvære . Han kastede staal over hende gang efter gang , hun løb lige godt . Men snart begyndte hun at blive træt , det saa gutten paa fodlaget ; men han saa ogsaa paa hendes skabning , at det var huldren selv og ingen anden . « Nu skal du sagtens blive min , » tænkte gutten og kastede sig med en gang saa haardt ind paa hende , at baade han og huldren trillede lange bakker ned over , før det tog stans . Da lo huldren , saa gutten syntes , det sang i bjergene . Han tog hende paa fang , og saa fager var hun netop , som han tæntte , konen skulde være . « Aa – nei , hvem er du , som er saa fager ? » spurgte gutten , han klappede hende , og hun var saa varm i kinderne . « Men , Herregud , jeg er jo konen din , » sagde hun . – g. Gjørnson .\\n14. Skildring fra hytterne . « Det var noget at slæbe vassaaer til for den julkvellen . Lort bli r lort , » mumlede Kari , kone til graastensmurer Hans Fælle , idet hun juleaftens morgen traadte ud paa den brøstfæld'"
      ]
     },
     "execution_count": 54,
     "metadata": {},
     "output_type": "execute_result"
    }
   ],
   "source": [
    "%time\n",
    "urn = corpus.urn.values[ran.randint(0, len(corpus))]\n",
    "print(urn)\n",
    "select(get_text(urn),1000)"
   ]
  }
 ],
 "metadata": {
  "kernelspec": {
   "display_name": "Python 3 (ipykernel)",
   "language": "python",
   "name": "python3"
  },
  "language_info": {
   "codemirror_mode": {
    "name": "ipython",
    "version": 3
   },
   "file_extension": ".py",
   "mimetype": "text/x-python",
   "name": "python",
   "nbconvert_exporter": "python",
   "pygments_lexer": "ipython3",
   "version": "3.12.0"
  }
 },
 "nbformat": 4,
 "nbformat_minor": 5
}
