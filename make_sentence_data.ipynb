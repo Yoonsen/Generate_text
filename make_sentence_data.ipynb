{
 "cells": [
  {
   "cell_type": "code",
   "execution_count": 1,
   "id": "f26553e5-c172-4b81-915f-6bad40a1f396",
   "metadata": {},
   "outputs": [
    {
     "data": {
      "text/html": [
       "<style>@import url(http://fonts.googleapis.com/css?family=Lato|Philosopher|Montserrat|Source+Code+Pro|Merriweather|Shippori+Mincho|Istok+Web|Philosopher|Assistant:200,400,700);\n",
       "\n",
       "p {\n",
       "    font-size:1.3em;\n",
       "    font-family:serif;\n",
       "    line-height:1.4em;\n",
       "    color:#142850;\n",
       "}\n",
       "h1, h2, h3, h4 {\n",
       "    color:#27496d;\n",
       "}\n",
       "\n",
       "/*\n",
       ".prompt, .jp-InputPrompt, .jp-InputArea-prompt, .jp-OutputPrompt, .jp-OutputArea-prompt {\n",
       "    visibility: hidden; \n",
       "}\n",
       "\n",
       "\n",
       ".jp-CodeCell .jp-Notebook-cell    {\n",
       "    margin-left:10%;\n",
       "    margin-right:5%;\n",
       "}\n",
       "\n",
       "\n",
       ".jp-InputArea, .jp-OutputArea {\n",
       "    margin-left:2.5em;\n",
       "    margin-right:2.5em;\n",
       "}\n",
       "*/\n",
       "\n",
       "\n",
       "body  {\n",
       "    margin:10%;\n",
       "    counter-reset: h1counter;\n",
       "\n",
       "}\n",
       "\n",
       "/* .jp-MarkdownOutput, .text_cell_render {\n",
       "\n",
       "    background-color:#FEFBF1;    \n",
       "    border-style: solid;\n",
       "    border-width: 1px;\n",
       "    border-color: rgba(0,0,0, 0.10);;\n",
       "} */\n",
       "\n",
       "\n",
       "h1:after {\n",
       "    content: \"\"; /* This is necessary for the pseudo element to work. */ \n",
       "    display: block; /* This will put the pseudo element on its own line. */\n",
       "    /*margin: 0 auto; This will center the border. */\n",
       "    width: 50%; /* Change this to whatever width you want. */\n",
       "    padding-top: 10px;\n",
       "    border-bottom:3px solid SlateGray; /* FireBrick; */\n",
       "}\n",
       "\n",
       "h2:after {\n",
       "    content: \"\"; /* This is necessary for the pseudo element to work. */ \n",
       "    display: block; /* This will put the pseudo element on its own line. */\n",
       "    /*margin: 0 auto; This will center the border. */\n",
       "    width: 30%; /* Change this to whatever width you want. */\n",
       "    padding-top: 10px;\n",
       "    border-bottom:2px solid SlateGray; /* FireBrick; */\n",
       "}\n",
       "\n",
       "</style>"
      ],
      "text/plain": [
       "<IPython.core.display.HTML object>"
      ]
     },
     "execution_count": 1,
     "metadata": {},
     "output_type": "execute_result"
    }
   ],
   "source": [
    "import dhlab as dh\n",
    "import dhlab.api.dhlab_api as api\n",
    "import pandas as pd\n",
    "from dhlab.nbtokenizer import tokenize\n",
    "import jsonlines\n",
    "import random\n",
    "dh.css()"
   ]
  },
  {
   "cell_type": "markdown",
   "id": "ccdf5221-8446-4cef-9170-187c34fa26b6",
   "metadata": {},
   "source": [
    "# Lemmatize a set"
   ]
  },
  {
   "cell_type": "markdown",
   "id": "b24720be-6462-4503-ae11-f1d18de54ab0",
   "metadata": {},
   "source": [
    "a = dh.totals(100000)\n",
    "lemma = dh.WordLemma(list(a.index)).lemmas\n",
    "reduced_set = pd.DataFrame(lemma.merge(a.reset_index(), left_on=0, right_on='index').groupby(2)['freq'].max())\n",
    "lower_set = pd.DataFrame(reduced_set.groupby(lambda x: x.lower())['freq'].sum())\n",
    "lower_set.sort_values(by='freq', ascending=False)"
   ]
  },
  {
   "cell_type": "markdown",
   "id": "04be82f0-f105-4f61-bc16-14a9ccbb61a6",
   "metadata": {},
   "source": [
    "# Generate sentences"
   ]
  },
  {
   "cell_type": "code",
   "execution_count": 2,
   "id": "3baf3474-9ee8-4244-971b-196c785e0c10",
   "metadata": {},
   "outputs": [],
   "source": [
    "def make_dewey_corpus(from_year = 1980, to_year = 2000, limit_pr_dewey=3000):\n",
    "    corpus = dh.Corpus(doctype='digibok', lang='nob NOT (mul OR eng OR ger OR dan OR swe)', ddk='0*', from_year=from_year, to_year=to_year, limit = limit_pr_dewey)\n",
    "    for i in range(1,10):\n",
    "        dewey = f\"{str(i)}*\"\n",
    "        #print(dewey)\n",
    "        corpus.add(dh.Corpus(doctype='digibok', lang='nob NOT (mul OR eng OR ger OR dan OR swe)', order_by='first', ddk=dewey, from_year=from_year, to_year = to_year, limit = limit_pr_dewey))\n",
    "    print(f\"Totalt antall URN'er {corpus.size}\")\n",
    "    return corpus"
   ]
  },
  {
   "cell_type": "code",
   "execution_count": null,
   "id": "83311a95-31f5-4f8b-a40e-15cb68b5435e",
   "metadata": {},
   "outputs": [],
   "source": [
    "corpus = dh.Corpus(doctype='digibok', lang='nob NOT (mul OR eng OR ger OR dan OR swe)', ddk='3*', from_year=1980, limit = 100000)\n",
    "corpus.size"
   ]
  },
  {
   "cell_type": "code",
   "execution_count": 4,
   "id": "8d19be7f-b0e2-48d6-a5fc-ce2ed53dbfb0",
   "metadata": {},
   "outputs": [
    {
     "data": {
      "text/plain": [
       "3292"
      ]
     },
     "execution_count": 4,
     "metadata": {},
     "output_type": "execute_result"
    }
   ],
   "source": [
    "corpus_med = dh.Corpus(doctype='digibok', lang='nob NOT (mul OR eng OR ger OR dan OR swe)', subject='medisin OR helse', from_year=1980, limit = 100000)\n",
    "corpus_med.size"
   ]
  },
  {
   "cell_type": "code",
   "execution_count": 5,
   "id": "22150907-6edb-49fd-8420-5ccf15a2446a",
   "metadata": {},
   "outputs": [],
   "source": [
    "def generate_word_sequences_from_corpus(corpus, samples, limit):\n",
    "    sentences = dh.Concordance(corpus.sample(samples), query = \"og OR i OR på OR av OR eller OR har OR ha OR hatt OR er OR var\", limit = limit)\n",
    "    a = sentences.show(style=False, n=limit).concordance.apply(lambda x:x.replace('<b>','').replace('</b>','')).values\n",
    "    return a"
   ]
  },
  {
   "cell_type": "code",
   "execution_count": 78,
   "id": "b56c560e-6f34-4a8f-8d20-6765ea08df21",
   "metadata": {},
   "outputs": [],
   "source": [
    "def generate_word_sequences(filename, corpus, samples, limit):\n",
    "    # sample in four, using period or comma before or after\n",
    "    # limit pr. corpus\n",
    "    \n",
    "    # here params are the choices of before and after and word\n",
    "    # This will ensure a mix of a selection of sentences \n",
    "    # samples are evenly distributed over the parameters\n",
    "    \n",
    "    params = [(['.',',','og'], 0, 24), (['.',',','og'], 24, 0)]\n",
    "    \n",
    "    if limit < len(params):\n",
    "        limit = len(params)\n",
    "    j = 0\n",
    "    \n",
    "    sampling = min(samples, len(corpus))\n",
    "    \n",
    "    sample_books = [int(x) for x in random.choices(list(corpus.sample(samples).dhlabid.values), k=sampling)]\n",
    "    print(sample_books[:5])\n",
    "    for i in range(len(params)):\n",
    "        words = params[i][0]\n",
    "        before = params[i][1]\n",
    "        after = params[i][2]\n",
    "        a = api.word_concordance(dhlabid = sample_books, words = words, before = before, after = after, limit = int(limit/len(params)))\n",
    "        with open(filename, \"w\") as outfile:\n",
    "            for _, row in a.fillna('').iterrows():\n",
    "                j += 1\n",
    "                outfile.write(row.before)\n",
    "                outfile.write(row.target)\n",
    "                outfile.write(row.after)\n",
    "                outfile.write('\\n')\n",
    "    print(f\"Wrote {j} lines to {filename}\")"
   ]
  },
  {
   "cell_type": "code",
   "execution_count": 65,
   "id": "d88123b5-7a23-4c1f-9c38-845181b1d05e",
   "metadata": {},
   "outputs": [
    {
     "name": "stdout",
     "output_type": "stream",
     "text": [
      "Totalt antall URN'er 143848\n"
     ]
    }
   ],
   "source": [
    "tc = make_dewey_corpus(from_year = 1980, to_year = 2020, limit_pr_dewey=40000)"
   ]
  },
  {
   "cell_type": "code",
   "execution_count": 6,
   "id": "aef7b64d-5529-43af-a2f6-d4d19a5f0a30",
   "metadata": {},
   "outputs": [],
   "source": [
    "#dhids = [ 100399477, 100071037, 100136829, 100092673]\n",
    "#a = api.word_concordance(dhlabid = [100092673], words = ['.',','], before = 0, after = 10, limit = 50)"
   ]
  },
  {
   "cell_type": "code",
   "execution_count": 7,
   "id": "ffcf6387-2bf4-4941-83cd-1f1bd7468f30",
   "metadata": {},
   "outputs": [],
   "source": [
    "#generate_word_sequences(\"dewey_all_tst.txt\", tc.frame, 1200, 90)"
   ]
  },
  {
   "cell_type": "code",
   "execution_count": 8,
   "id": "a4a2143d-3941-411b-938f-704db1d9d332",
   "metadata": {},
   "outputs": [],
   "source": [
    "def convert(sentence, lower=False):\n",
    "    \"\"\"Tokenize i a string, turn all tokens to lower case and \n",
    "    remove punctuations and other stuff not normally part of a word\"\"\"\n",
    "    lst = tokenize(sentence)\n",
    "    lowered = [x for x in lst if x.isalpha()]\n",
    "    return lowered"
   ]
  },
  {
   "cell_type": "markdown",
   "id": "3f76c0fd-2f14-490b-9cb4-153e6f69f3dc",
   "metadata": {},
   "source": [
    "## Generate json lines"
   ]
  },
  {
   "cell_type": "code",
   "execution_count": 152,
   "id": "aa47d884-1962-4ae2-a829-0cb91bacc9b5",
   "metadata": {},
   "outputs": [
    {
     "data": {
      "text/plain": [
       "2194"
      ]
     },
     "execution_count": 152,
     "metadata": {},
     "output_type": "execute_result"
    }
   ],
   "source": [
    "dewey = \"4\"\n",
    "corpus = dh.Corpus(doctype='digibok', lang='nob NOT (mul OR eng OR ger OR dan OR swe)', ddk=f'{dewey}*', from_year=1980, limit = 100000)\n",
    "corpus.size"
   ]
  },
  {
   "cell_type": "code",
   "execution_count": 9,
   "id": "64b51d65-8fe8-424f-b00b-d611358efcb4",
   "metadata": {},
   "outputs": [
    {
     "data": {
      "text/plain": [
       "3292"
      ]
     },
     "execution_count": 9,
     "metadata": {},
     "output_type": "execute_result"
    }
   ],
   "source": [
    "subject = \"medisin OR helse\"\n",
    "corpus = dh.Corpus(doctype='digibok', lang='nob NOT (mul OR eng OR ger OR dan OR swe)', subject=subject, from_year=1980, limit = 100000)\n",
    "corpus.size"
   ]
  },
  {
   "cell_type": "code",
   "execution_count": 10,
   "id": "0d9480ae-618c-483b-af8d-9de580f2c98e",
   "metadata": {},
   "outputs": [
    {
     "name": "stdout",
     "output_type": "stream",
     "text": [
      "0\n",
      "100\n",
      "200\n",
      "300\n",
      "CPU times: user 1min 26s, sys: 855 ms, total: 1min 27s\n",
      "Wall time: 16min 34s\n"
     ]
    }
   ],
   "source": [
    "%%time\n",
    "for i in range(400):\n",
    "    if i%100 == 0:\n",
    "        print(i)\n",
    "    a = generate_word_sequences_from_corpus(corpus, 100, 3000)\n",
    "    with open(f\"extract_subject_{'-'.join(subject.split())}.txt\",mode='a') as wr:\n",
    "        for sent in map(convert, a):\n",
    "            wr.write(' '.join(sent))\n",
    "            wr.write('\\n')\n",
    "    "
   ]
  },
  {
   "cell_type": "code",
   "execution_count": null,
   "id": "81f6b8d0-5639-43d5-901a-ee151bd92cb6",
   "metadata": {},
   "outputs": [],
   "source": []
  }
 ],
 "metadata": {
  "kernelspec": {
   "display_name": "Python 3 (ipykernel)",
   "language": "python",
   "name": "python3"
  },
  "language_info": {
   "codemirror_mode": {
    "name": "ipython",
    "version": 3
   },
   "file_extension": ".py",
   "mimetype": "text/x-python",
   "name": "python",
   "nbconvert_exporter": "python",
   "pygments_lexer": "ipython3",
   "version": "3.9.15"
  }
 },
 "nbformat": 4,
 "nbformat_minor": 5
}
