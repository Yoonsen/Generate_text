{
 "cells": [
  {
   "cell_type": "code",
   "execution_count": 91,
   "id": "f26553e5-c172-4b81-915f-6bad40a1f396",
   "metadata": {},
   "outputs": [
    {
     "data": {
      "text/html": [
       "<style>@import url(http://fonts.googleapis.com/css?family=Lato|Philosopher|Montserrat|Source+Code+Pro|Merriweather|Shippori+Mincho|Istok+Web|Philosopher|Assistant:200,400,700);\n",
       "\n",
       "p {\n",
       "    font-size:1.3em;\n",
       "    font-family:serif;\n",
       "    line-height:1.4em;\n",
       "    color:#142850;\n",
       "}\n",
       "h1, h2, h3, h4 {\n",
       "    color:#27496d;\n",
       "}\n",
       "\n",
       "/*\n",
       ".prompt, .jp-InputPrompt, .jp-InputArea-prompt, .jp-OutputPrompt, .jp-OutputArea-prompt {\n",
       "    visibility: hidden; \n",
       "}\n",
       "\n",
       "\n",
       ".jp-CodeCell .jp-Notebook-cell    {\n",
       "    margin-left:10%;\n",
       "    margin-right:5%;\n",
       "}\n",
       "\n",
       "\n",
       ".jp-InputArea, .jp-OutputArea {\n",
       "    margin-left:2.5em;\n",
       "    margin-right:2.5em;\n",
       "}\n",
       "*/\n",
       "\n",
       "\n",
       "body  {\n",
       "    margin:10%;\n",
       "    counter-reset: h1counter;\n",
       "\n",
       "}\n",
       "\n",
       "/* .jp-MarkdownOutput, .text_cell_render {\n",
       "\n",
       "    background-color:#FEFBF1;    \n",
       "    border-style: solid;\n",
       "    border-width: 1px;\n",
       "    border-color: rgba(0,0,0, 0.10);;\n",
       "} */\n",
       "\n",
       "\n",
       "h1:after {\n",
       "    content: \"\"; /* This is necessary for the pseudo element to work. */ \n",
       "    display: block; /* This will put the pseudo element on its own line. */\n",
       "    /*margin: 0 auto; This will center the border. */\n",
       "    width: 50%; /* Change this to whatever width you want. */\n",
       "    padding-top: 10px;\n",
       "    border-bottom:3px solid SlateGray; /* FireBrick; */\n",
       "}\n",
       "\n",
       "h2:after {\n",
       "    content: \"\"; /* This is necessary for the pseudo element to work. */ \n",
       "    display: block; /* This will put the pseudo element on its own line. */\n",
       "    /*margin: 0 auto; This will center the border. */\n",
       "    width: 30%; /* Change this to whatever width you want. */\n",
       "    padding-top: 10px;\n",
       "    border-bottom:2px solid SlateGray; /* FireBrick; */\n",
       "}\n",
       "\n",
       "</style>"
      ],
      "text/plain": [
       "<IPython.core.display.HTML object>"
      ]
     },
     "execution_count": 91,
     "metadata": {},
     "output_type": "execute_result"
    }
   ],
   "source": [
    "import dhlab as dh\n",
    "import pandas as pd\n",
    "from dhlab.nbtokenizer import tokenize\n",
    "import jsonlines\n",
    "dh.css()"
   ]
  },
  {
   "cell_type": "markdown",
   "id": "ccdf5221-8446-4cef-9170-187c34fa26b6",
   "metadata": {},
   "source": [
    "# Lemmatize a set"
   ]
  },
  {
   "cell_type": "markdown",
   "id": "b24720be-6462-4503-ae11-f1d18de54ab0",
   "metadata": {},
   "source": [
    "a = dh.totals(100000)\n",
    "lemma = dh.WordLemma(list(a.index)).lemmas\n",
    "reduced_set = pd.DataFrame(lemma.merge(a.reset_index(), left_on=0, right_on='index').groupby(2)['freq'].max())\n",
    "lower_set = pd.DataFrame(reduced_set.groupby(lambda x: x.lower())['freq'].sum())\n",
    "lower_set.sort_values(by='freq', ascending=False)"
   ]
  },
  {
   "cell_type": "markdown",
   "id": "04be82f0-f105-4f61-bc16-14a9ccbb61a6",
   "metadata": {},
   "source": [
    "# Generate sentences"
   ]
  },
  {
   "cell_type": "code",
   "execution_count": 125,
   "id": "3baf3474-9ee8-4244-971b-196c785e0c10",
   "metadata": {},
   "outputs": [],
   "source": [
    "corpus = dh.Corpus(doctype='digibok', lang='nob', ddk='0*', from_year=1980, limit = 10000)\n",
    "for i in range(1,9):\n",
    "    dewey = f\"{str(i)}*\"\n",
    "    corpus.add(dh.Corpus(doctype='digibok', lang='nob', ddk=dewey, from_year=1980, limit = 10000))"
   ]
  },
  {
   "cell_type": "code",
   "execution_count": 126,
   "id": "e9a11340-5877-47fb-8b11-1a66a1a4e01a",
   "metadata": {},
   "outputs": [
    {
     "data": {
      "text/plain": [
       "72287"
      ]
     },
     "execution_count": 126,
     "metadata": {},
     "output_type": "execute_result"
    }
   ],
   "source": [
    "corpus.size"
   ]
  },
  {
   "cell_type": "code",
   "execution_count": 127,
   "id": "945c388a-d7de-4bbc-8e71-1b6177ab9c48",
   "metadata": {},
   "outputs": [],
   "source": [
    "def generate_word_sequences_from_corpus(corpus, samples, limit):\n",
    "    sentences = dh.Concordance(corpus.sample(samples), query = \"og OR i OR på OR av OR eller OR har OR ha OR hatt OR er OR var\", limit = limit)\n",
    "    a = sentences.show(style=False, n=limit).concordance.apply(lambda x:x.replace('<b>','').replace('</b>','')).values\n",
    "    return a"
   ]
  },
  {
   "cell_type": "code",
   "execution_count": 96,
   "id": "a4a2143d-3941-411b-938f-704db1d9d332",
   "metadata": {},
   "outputs": [],
   "source": [
    "def convert(sentence):\n",
    "    \"\"\"Tokenize i a string, turn all tokens to lower case and \n",
    "    remove punctuations and other stuff not normally part of a word\"\"\"\n",
    "    lst = tokenize(sentence)\n",
    "    lowered = [x.lower() for x in lst if x.isalpha()]\n",
    "    return lowered"
   ]
  },
  {
   "cell_type": "markdown",
   "id": "3f76c0fd-2f14-490b-9cb4-153e6f69f3dc",
   "metadata": {},
   "source": [
    "## Generate json lines"
   ]
  },
  {
   "cell_type": "code",
   "execution_count": 128,
   "id": "0d9480ae-618c-483b-af8d-9de580f2c98e",
   "metadata": {},
   "outputs": [
    {
     "name": "stdout",
     "output_type": "stream",
     "text": [
      "0\n",
      "100\n",
      "200\n",
      "300\n",
      "400\n",
      "500\n",
      "600\n",
      "700\n",
      "800\n",
      "900\n",
      "1000\n",
      "1100\n",
      "1200\n",
      "1300\n",
      "1400\n",
      "1500\n",
      "1600\n",
      "1700\n",
      "1800\n",
      "1900\n",
      "2000\n",
      "2100\n",
      "2200\n",
      "2300\n",
      "2400\n",
      "2500\n",
      "2600\n",
      "2700\n",
      "2800\n",
      "2900\n",
      "3000\n",
      "3100\n",
      "3200\n",
      "3300\n",
      "3400\n",
      "3500\n",
      "3600\n",
      "3700\n",
      "3800\n",
      "3900\n",
      "4000\n",
      "4100\n",
      "4200\n",
      "4300\n",
      "4400\n",
      "4500\n",
      "4600\n",
      "4700\n",
      "4800\n",
      "4900\n"
     ]
    }
   ],
   "source": [
    "for i in range(5000):\n",
    "    if i%100 == 0:\n",
    "        print(i)\n",
    "    a = generate_word_sequences_from_corpus(corpus, 100, 1000)\n",
    "    with open('sentences_varied_corpus.textlines',mode='a') as wr:\n",
    "        for sent in map(convert, a):\n",
    "            wr.write(' '.join(sent))\n",
    "            wr.write('\\n')\n",
    "    "
   ]
  }
 ],
 "metadata": {
  "kernelspec": {
   "display_name": "Python 3 (ipykernel)",
   "language": "python",
   "name": "python3"
  },
  "language_info": {
   "codemirror_mode": {
    "name": "ipython",
    "version": 3
   },
   "file_extension": ".py",
   "mimetype": "text/x-python",
   "name": "python",
   "nbconvert_exporter": "python",
   "pygments_lexer": "ipython3",
   "version": "3.9.15"
  }
 },
 "nbformat": 4,
 "nbformat_minor": 5
}
