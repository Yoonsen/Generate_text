{
 "cells": [
  {
   "cell_type": "code",
   "execution_count": 1,
   "id": "f26553e5-c172-4b81-915f-6bad40a1f396",
   "metadata": {},
   "outputs": [
    {
     "data": {
      "text/html": [
       "<style>@import url(http://fonts.googleapis.com/css?family=Lato|Philosopher|Montserrat|Source+Code+Pro|Merriweather|Shippori+Mincho|Istok+Web|Philosopher|Assistant:200,400,700);\n",
       "\n",
       "p {\n",
       "    font-size:1.3em;\n",
       "    font-family:serif;\n",
       "    line-height:1.4em;\n",
       "    color:#142850;\n",
       "}\n",
       "h1, h2, h3, h4 {\n",
       "    color:#27496d;\n",
       "}\n",
       "\n",
       "/*\n",
       ".prompt, .jp-InputPrompt, .jp-InputArea-prompt, .jp-OutputPrompt, .jp-OutputArea-prompt {\n",
       "    visibility: hidden; \n",
       "}\n",
       "\n",
       "\n",
       ".jp-CodeCell .jp-Notebook-cell    {\n",
       "    margin-left:10%;\n",
       "    margin-right:5%;\n",
       "}\n",
       "\n",
       "\n",
       ".jp-InputArea, .jp-OutputArea {\n",
       "    margin-left:2.5em;\n",
       "    margin-right:2.5em;\n",
       "}\n",
       "*/\n",
       "\n",
       "\n",
       "body  {\n",
       "    margin:10%;\n",
       "    counter-reset: h1counter;\n",
       "\n",
       "}\n",
       "\n",
       "/* .jp-MarkdownOutput, .text_cell_render {\n",
       "\n",
       "    background-color:#FEFBF1;    \n",
       "    border-style: solid;\n",
       "    border-width: 1px;\n",
       "    border-color: rgba(0,0,0, 0.10);;\n",
       "} */\n",
       "\n",
       "\n",
       "h1:after {\n",
       "    content: \"\"; /* This is necessary for the pseudo element to work. */ \n",
       "    display: block; /* This will put the pseudo element on its own line. */\n",
       "    /*margin: 0 auto; This will center the border. */\n",
       "    width: 50%; /* Change this to whatever width you want. */\n",
       "    padding-top: 10px;\n",
       "    border-bottom:3px solid SlateGray; /* FireBrick; */\n",
       "}\n",
       "\n",
       "h2:after {\n",
       "    content: \"\"; /* This is necessary for the pseudo element to work. */ \n",
       "    display: block; /* This will put the pseudo element on its own line. */\n",
       "    /*margin: 0 auto; This will center the border. */\n",
       "    width: 30%; /* Change this to whatever width you want. */\n",
       "    padding-top: 10px;\n",
       "    border-bottom:2px solid SlateGray; /* FireBrick; */\n",
       "}\n",
       "\n",
       "</style>"
      ],
      "text/plain": [
       "<IPython.core.display.HTML object>"
      ]
     },
     "execution_count": 1,
     "metadata": {},
     "output_type": "execute_result"
    }
   ],
   "source": [
    "import dhlab as dh\n",
    "import pandas as pd\n",
    "from dhlab.nbtokenizer import tokenize\n",
    "import jsonlines\n",
    "dh.css()"
   ]
  },
  {
   "cell_type": "code",
   "execution_count": 95,
   "id": "945c388a-d7de-4bbc-8e71-1b6177ab9c48",
   "metadata": {},
   "outputs": [],
   "source": [
    "def generate_word_sequences_from_corpus(corpus, samples, limit):\n",
    "    sentences = dh.Concordance(corpus.sample(samples), query = \"og OR i OR på OR av OR eller\", limit = limit)\n",
    "    a = sentences.show(style=False, n=limit).concordance.apply(lambda x:x.replace('<b>','').replace('</b>','')).values\n",
    "    return a"
   ]
  },
  {
   "cell_type": "code",
   "execution_count": 96,
   "id": "a4a2143d-3941-411b-938f-704db1d9d332",
   "metadata": {},
   "outputs": [],
   "source": [
    "def convert(sentence):\n",
    "    \"\"\"Tokenize i a string, turn all tokens to lower case and \n",
    "    remove punctuations and other stuff not normally part of a word\"\"\"\n",
    "    lst = tokenize(sentence)\n",
    "    lowered = [x.lower() for x in lst if x.isalpha()]\n",
    "    return lowered"
   ]
  },
  {
   "cell_type": "markdown",
   "id": "3f76c0fd-2f14-490b-9cb4-153e6f69f3dc",
   "metadata": {},
   "source": [
    "## Generate json lines"
   ]
  },
  {
   "cell_type": "code",
   "execution_count": null,
   "id": "0d9480ae-618c-483b-af8d-9de580f2c98e",
   "metadata": {},
   "outputs": [
    {
     "name": "stdout",
     "output_type": "stream",
     "text": [
      "0\n",
      "100\n",
      "200\n",
      "300\n",
      "400\n",
      "500\n",
      "600\n"
     ]
    }
   ],
   "source": [
    "for i in range(1000):\n",
    "    if i%100 == 0:\n",
    "        print(i)\n",
    "    a = generate_word_sequences_from_corpus(corpus, 100, 1000)\n",
    "    with jsonlines.open('sentences.jsonlines',mode='a') as wr:\n",
    "        for sent in map(convert, a):\n",
    "            wr.write(sent)\n",
    "    "
   ]
  },
  {
   "cell_type": "markdown",
   "id": "a7328f2a-ecad-41d8-91fc-358a370552ed",
   "metadata": {},
   "source": [
    "# Create models"
   ]
  },
  {
   "cell_type": "code",
   "execution_count": 43,
   "id": "efbdcd43-0844-4aab-a02d-9ac052f6cb12",
   "metadata": {},
   "outputs": [],
   "source": [
    "from gensim.models import Word2Vec\n",
    "from gensim.models.word2vec import LineSentence\n",
    "from gensim.test.utils import datapath"
   ]
  },
  {
   "cell_type": "code",
   "execution_count": 149,
   "id": "30b3bcb2-e57f-455b-839f-8513a80cb866",
   "metadata": {},
   "outputs": [],
   "source": [
    "sentence_file = 'sentences_varied_corpus.textlines'"
   ]
  },
  {
   "cell_type": "code",
   "execution_count": 150,
   "id": "cf7b7ffb-4fe8-4896-90ef-97b9a20b8d4f",
   "metadata": {},
   "outputs": [
    {
     "name": "stdout",
     "output_type": "stream",
     "text": [
      "CPU times: user 21min 1s, sys: 14.6 s, total: 21min 16s\n",
      "Wall time: 8min 11s\n"
     ]
    }
   ],
   "source": [
    "%%time\n",
    "sentences = LineSentence(sentence_file)\n",
    "model = Word2Vec(sentences= sentences, vector_size=40, window=5, min_count=5, workers=20)\n",
    "model.save(\"third_varied.model\")"
   ]
  },
  {
   "cell_type": "code",
   "execution_count": 128,
   "id": "f32e4ba0-8df2-41a5-aafe-2d3ee56a82a8",
   "metadata": {},
   "outputs": [],
   "source": [
    "v1 = model.wv['konge'] - model.wv['mann'] + model.wv['kvinne']"
   ]
  },
  {
   "cell_type": "code",
   "execution_count": 124,
   "id": "c4058eb4-4ef1-41dd-8a18-019c5cd5207b",
   "metadata": {},
   "outputs": [
    {
     "data": {
      "text/plain": [
       "array([-0.03368857, -0.13378242, -0.07588252, ...,  0.37701008,\n",
       "        0.33858377,  0.17295977], dtype=float32)"
      ]
     },
     "execution_count": 124,
     "metadata": {},
     "output_type": "execute_result"
    }
   ],
   "source": [
    "model.wv.cosine_similarities(v1, model.wv.vectors)"
   ]
  },
  {
   "cell_type": "code",
   "execution_count": 151,
   "id": "e5abe15d-d585-4e5c-89e3-a0162af634e2",
   "metadata": {},
   "outputs": [
    {
     "data": {
      "text/plain": [
       "[('mann', 0.9317436814308167),\n",
       " ('gutt', 0.8670259714126587),\n",
       " ('pike', 0.8615455627441406),\n",
       " ('dame', 0.836986243724823),\n",
       " ('jente', 0.8322846293449402),\n",
       " ('person', 0.7917787432670593),\n",
       " ('soldat', 0.7851689457893372),\n",
       " ('ung', 0.7745891809463501),\n",
       " ('hund', 0.7726834416389465),\n",
       " ('tenåring', 0.7620474100112915)]"
      ]
     },
     "execution_count": 151,
     "metadata": {},
     "output_type": "execute_result"
    }
   ],
   "source": [
    "model.wv.most_similar('kvinne', topn=10)"
   ]
  },
  {
   "cell_type": "code",
   "execution_count": 152,
   "id": "c5f5be2c-e964-4603-95c7-abb217638320",
   "metadata": {},
   "outputs": [
    {
     "data": {
      "text/plain": [
       "[('lastebil', 0.8768933415412903),\n",
       " ('motorsykkel', 0.8584362864494324),\n",
       " ('buss', 0.8576847910881042),\n",
       " ('sykkel', 0.8522830605506897),\n",
       " ('båt', 0.844989538192749),\n",
       " ('traktor', 0.8176421523094177),\n",
       " ('bilen', 0.8040301203727722),\n",
       " ('hest', 0.788760244846344),\n",
       " ('butikk', 0.7867204546928406),\n",
       " ('vogn', 0.7843781113624573)]"
      ]
     },
     "execution_count": 152,
     "metadata": {},
     "output_type": "execute_result"
    }
   ],
   "source": [
    "model.wv.most_similar('bil', topn=10)"
   ]
  },
  {
   "cell_type": "code",
   "execution_count": 153,
   "id": "773c2e7f-93cf-4799-bf60-a161c4ab42ff",
   "metadata": {},
   "outputs": [
    {
     "data": {
      "text/plain": [
       "[('sild', 0.9531148076057434),\n",
       " ('kveite', 0.9240300059318542),\n",
       " ('rogn', 0.9166420698165894),\n",
       " ('ørret', 0.9137999415397644),\n",
       " ('gjedde', 0.9101670384407043),\n",
       " ('makrell', 0.9085878729820251),\n",
       " ('klippfisk', 0.9074795842170715),\n",
       " ('laks', 0.9063968062400818),\n",
       " ('sjøørret', 0.8915678262710571),\n",
       " ('hyse', 0.8878176808357239)]"
      ]
     },
     "execution_count": 153,
     "metadata": {},
     "output_type": "execute_result"
    }
   ],
   "source": [
    "model.wv.most_similar('torsk', topn=10)"
   ]
  },
  {
   "cell_type": "code",
   "execution_count": 154,
   "id": "39c1313a-3352-401d-87be-fc71636862f8",
   "metadata": {},
   "outputs": [
    {
     "data": {
      "text/plain": [
       "[('grå', 0.9053907990455627),\n",
       " ('gule', 0.9034755825996399),\n",
       " ('lilla', 0.8953226804733276),\n",
       " ('lyseblå', 0.8931620717048645),\n",
       " ('oransje', 0.8785077333450317),\n",
       " ('rosa', 0.8751715421676636),\n",
       " ('hvite', 0.8727355599403381),\n",
       " ('sorte', 0.8705081939697266),\n",
       " ('fiolette', 0.8588444590568542),\n",
       " ('blodrøde', 0.8502930998802185)]"
      ]
     },
     "execution_count": 154,
     "metadata": {},
     "output_type": "execute_result"
    }
   ],
   "source": [
    "model.wv.most_similar('blå', topn=10)"
   ]
  },
  {
   "cell_type": "code",
   "execution_count": 155,
   "id": "46c0e1df-8e58-4066-a920-c6323769a5fb",
   "metadata": {},
   "outputs": [
    {
     "data": {
      "text/plain": [
       "[('utenriksminister', 0.9169834852218628),\n",
       " ('generalsekretær', 0.8974413871765137),\n",
       " ('minister', 0.8844966292381287),\n",
       " ('ambassadør', 0.8800327181816101),\n",
       " ('president', 0.8783475160598755),\n",
       " ('forsvarsminister', 0.8723247051239014),\n",
       " ('visepresident', 0.868618369102478),\n",
       " ('guvernør', 0.8630712032318115),\n",
       " ('gerhardsen', 0.85364830493927),\n",
       " ('gorbatsjov', 0.8531057834625244)]"
      ]
     },
     "execution_count": 155,
     "metadata": {},
     "output_type": "execute_result"
    }
   ],
   "source": [
    "model.wv.most_similar('statsminister', topn=10)"
   ]
  },
  {
   "cell_type": "code",
   "execution_count": 197,
   "id": "e705d769-c308-4334-b118-d03d318ed6c2",
   "metadata": {},
   "outputs": [
    {
     "data": {
      "text/plain": [
       "[('prins', 0.928143322467804),\n",
       " ('prinsesse', 0.8946334719657898),\n",
       " ('datter', 0.8366270661354065),\n",
       " ('ridder', 0.8334811329841614),\n",
       " ('munk', 0.8287879228591919),\n",
       " ('nevø', 0.8172115087509155),\n",
       " ('sønnesønn', 0.8165740370750427),\n",
       " ('jomfru', 0.8157027363777161),\n",
       " ('høvding', 0.8143293857574463),\n",
       " ('sønn', 0.8133881092071533),\n",
       " ('fetter', 0.8112004995346069),\n",
       " ('jesabel', 0.809544026851654),\n",
       " ('gudinne', 0.8078281283378601),\n",
       " ('borg', 0.8072675466537476),\n",
       " ('teresa', 0.805499792098999),\n",
       " ('kusine', 0.8035560250282288),\n",
       " ('nonne', 0.7997184991836548),\n",
       " ('martyr', 0.7988517880439758),\n",
       " ('broder', 0.7984464168548584),\n",
       " ('skytshelgen', 0.7950207591056824)]"
      ]
     },
     "execution_count": 197,
     "metadata": {},
     "output_type": "execute_result"
    }
   ],
   "source": [
    "model.wv.most_similar('dronning', topn=20)"
   ]
  },
  {
   "cell_type": "code",
   "execution_count": 204,
   "id": "37877c1e-e14c-4150-8616-223de4efc22b",
   "metadata": {},
   "outputs": [
    {
     "data": {
      "text/plain": [
       "[('ham', 0.8746190667152405),\n",
       " ('oss', 0.8503870964050293),\n",
       " ('dere', 0.8433657288551331),\n",
       " ('meg', 0.8245152235031128),\n",
       " ('henne', 0.8128118515014648),\n",
       " ('hverandre', 0.7852757573127747),\n",
       " ('menneskene', 0.7778470516204834),\n",
       " ('deg', 0.7773881554603577),\n",
       " ('gud', 0.740097165107727),\n",
       " ('jesus', 0.738551676273346),\n",
       " ('tingene', 0.7332742810249329),\n",
       " ('tilhørerne', 0.728418231010437),\n",
       " ('englene', 0.7246710062026978),\n",
       " ('barna', 0.7230252623558044),\n",
       " ('folk', 0.7198902368545532),\n",
       " ('ting', 0.7193999886512756),\n",
       " ('mennesker', 0.7179787755012512),\n",
       " ('herren', 0.7163693308830261),\n",
       " ('gjestene', 0.7044335603713989),\n",
       " ('mennene', 0.6965382695198059)]"
      ]
     },
     "execution_count": 204,
     "metadata": {},
     "output_type": "execute_result"
    }
   ],
   "source": [
    "model.wv.most_similar('', topn=20)"
   ]
  },
  {
   "cell_type": "code",
   "execution_count": 193,
   "id": "0085d447-abb6-421e-a748-f18297ea024b",
   "metadata": {},
   "outputs": [
    {
     "data": {
      "text/plain": [
       "array([-0.08971797,  0.07842822,  0.16596247, -0.14734945,  0.04119027,\n",
       "       -0.15446575,  0.44952488,  0.04890817, -0.19546679,  0.07589255,\n",
       "        0.05008372, -0.00709923,  0.05072048, -0.20595767,  0.12802891,\n",
       "        0.08077952, -0.41787663,  0.36620158, -0.20778832, -0.50555795,\n",
       "       -0.12203322, -0.3404704 ,  0.20983867, -0.5469011 ,  0.27939728,\n",
       "        0.12360768,  0.00980221,  0.37181962,  0.197234  ,  0.0953685 ,\n",
       "        0.431384  ,  0.21606198,  0.39121142, -0.950384  ,  0.17196113,\n",
       "       -0.16799541,  0.7429617 ,  0.09146556, -0.6701796 , -0.2992059 ],\n",
       "      dtype=float32)"
      ]
     },
     "execution_count": 193,
     "metadata": {},
     "output_type": "execute_result"
    }
   ],
   "source": [
    "model.wv['deltidsstilling']"
   ]
  }
 ],
 "metadata": {
  "kernelspec": {
   "display_name": "Python 3 (ipykernel)",
   "language": "python",
   "name": "python3"
  },
  "language_info": {
   "codemirror_mode": {
    "name": "ipython",
    "version": 3
   },
   "file_extension": ".py",
   "mimetype": "text/x-python",
   "name": "python",
   "nbconvert_exporter": "python",
   "pygments_lexer": "ipython3",
   "version": "3.9.15"
  }
 },
 "nbformat": 4,
 "nbformat_minor": 5
}
