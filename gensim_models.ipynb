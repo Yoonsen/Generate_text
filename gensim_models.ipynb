{
 "cells": [
  {
   "cell_type": "markdown",
   "id": "a7328f2a-ecad-41d8-91fc-358a370552ed",
   "metadata": {},
   "source": [
    "# Create models\n",
    "\n",
    "Create a word2vec model using Gensim library. "
   ]
  },
  {
   "cell_type": "code",
   "execution_count": 1,
   "id": "efbdcd43-0844-4aab-a02d-9ac052f6cb12",
   "metadata": {},
   "outputs": [],
   "source": [
    "from gensim.models import Word2Vec\n",
    "from gensim.models.word2vec import LineSentence"
   ]
  },
  {
   "cell_type": "code",
   "execution_count": 2,
   "id": "f26553e5-c172-4b81-915f-6bad40a1f396",
   "metadata": {},
   "outputs": [
    {
     "data": {
      "text/html": [
       "<style>@import url(http://fonts.googleapis.com/css?family=Lato|Philosopher|Montserrat|Source+Code+Pro|Merriweather|Shippori+Mincho|Istok+Web|Philosopher|Assistant:200,400,700);\n",
       "\n",
       "p {\n",
       "    font-size:1.3em;\n",
       "    font-family:serif;\n",
       "    line-height:1.4em;\n",
       "    color:#142850;\n",
       "}\n",
       "h1, h2, h3, h4 {\n",
       "    color:#27496d;\n",
       "}\n",
       "\n",
       "/*\n",
       ".prompt, .jp-InputPrompt, .jp-InputArea-prompt, .jp-OutputPrompt, .jp-OutputArea-prompt {\n",
       "    visibility: hidden; \n",
       "}\n",
       "\n",
       "\n",
       ".jp-CodeCell .jp-Notebook-cell    {\n",
       "    margin-left:10%;\n",
       "    margin-right:5%;\n",
       "}\n",
       "\n",
       "\n",
       ".jp-InputArea, .jp-OutputArea {\n",
       "    margin-left:2.5em;\n",
       "    margin-right:2.5em;\n",
       "}\n",
       "*/\n",
       "\n",
       "\n",
       "body  {\n",
       "    margin:10%;\n",
       "    counter-reset: h1counter;\n",
       "\n",
       "}\n",
       "\n",
       "/* .jp-MarkdownOutput, .text_cell_render {\n",
       "\n",
       "    background-color:#FEFBF1;    \n",
       "    border-style: solid;\n",
       "    border-width: 1px;\n",
       "    border-color: rgba(0,0,0, 0.10);;\n",
       "} */\n",
       "\n",
       "\n",
       "h1:after {\n",
       "    content: \"\"; /* This is necessary for the pseudo element to work. */ \n",
       "    display: block; /* This will put the pseudo element on its own line. */\n",
       "    /*margin: 0 auto; This will center the border. */\n",
       "    width: 50%; /* Change this to whatever width you want. */\n",
       "    padding-top: 10px;\n",
       "    border-bottom:3px solid SlateGray; /* FireBrick; */\n",
       "}\n",
       "\n",
       "h2:after {\n",
       "    content: \"\"; /* This is necessary for the pseudo element to work. */ \n",
       "    display: block; /* This will put the pseudo element on its own line. */\n",
       "    /*margin: 0 auto; This will center the border. */\n",
       "    width: 30%; /* Change this to whatever width you want. */\n",
       "    padding-top: 10px;\n",
       "    border-bottom:2px solid SlateGray; /* FireBrick; */\n",
       "}\n",
       "\n",
       "</style>"
      ],
      "text/plain": [
       "<IPython.core.display.HTML object>"
      ]
     },
     "execution_count": 2,
     "metadata": {},
     "output_type": "execute_result"
    }
   ],
   "source": [
    "import dhlab as dh\n",
    "import pandas as pd\n",
    "from dhlab.nbtokenizer import tokenize\n",
    "dh.css()"
   ]
  },
  {
   "cell_type": "markdown",
   "id": "3f76c0fd-2f14-490b-9cb4-153e6f69f3dc",
   "metadata": {},
   "source": [
    "## Model production"
   ]
  },
  {
   "cell_type": "markdown",
   "id": "35662f8f-9998-4e4a-8302-d2b9b93be196",
   "metadata": {},
   "source": [
    "The texts are in a file, one line pr. text."
   ]
  },
  {
   "cell_type": "code",
   "execution_count": 16,
   "id": "30b3bcb2-e57f-455b-839f-8513a80cb866",
   "metadata": {},
   "outputs": [],
   "source": [
    "sentence_file = 'nou1997all.txt'"
   ]
  },
  {
   "cell_type": "code",
   "execution_count": 17,
   "id": "76bb5bb5-93a4-4f05-8e65-b547337cb99e",
   "metadata": {},
   "outputs": [
    {
     "name": "stdout",
     "output_type": "stream",
     "text": [
      "CPU times: user 1.67 s, sys: 30.2 ms, total: 1.7 s\n",
      "Wall time: 657 ms\n"
     ]
    }
   ],
   "source": [
    "%%time\n",
    "sentences = LineSentence(sentence_file)\n",
    "model = Word2Vec(sentences= sentences, vector_size=100, window=5, min_count=5, workers=10)"
   ]
  },
  {
   "cell_type": "code",
   "execution_count": 18,
   "id": "fd984eda-2363-47d1-8280-e57b33ab5794",
   "metadata": {},
   "outputs": [],
   "source": [
    "model.save(f\"{sentence_file.split('.')[0]}.model\")"
   ]
  },
  {
   "cell_type": "code",
   "execution_count": null,
   "id": "5838cf6e-ea48-47bc-9fc0-a8372633a27c",
   "metadata": {},
   "outputs": [],
   "source": []
  }
 ],
 "metadata": {
  "kernelspec": {
   "display_name": "Python 3 (ipykernel)",
   "language": "python",
   "name": "python3"
  },
  "language_info": {
   "codemirror_mode": {
    "name": "ipython",
    "version": 3
   },
   "file_extension": ".py",
   "mimetype": "text/x-python",
   "name": "python",
   "nbconvert_exporter": "python",
   "pygments_lexer": "ipython3",
   "version": "3.9.15"
  }
 },
 "nbformat": 4,
 "nbformat_minor": 5
}
