{
 "cells": [
  {
   "cell_type": "code",
   "execution_count": 4,
   "id": "b22e824c-455d-429f-834d-7398890daaeb",
   "metadata": {},
   "outputs": [],
   "source": [
    "import dhlab as dh"
   ]
  },
  {
   "cell_type": "code",
   "execution_count": 5,
   "id": "8d409e13-49a4-4b6d-8f9a-472648d207c9",
   "metadata": {},
   "outputs": [
    {
     "data": {
      "text/html": [
       "<style>@import url(http://fonts.googleapis.com/css?family=Lato|Philosopher|Montserrat|Source+Code+Pro|Merriweather|Shippori+Mincho|Istok+Web|Philosopher|Assistant:200,400,700);\n",
       "\n",
       "p {\n",
       "    font-size:1.3em;\n",
       "    font-family:serif;\n",
       "    line-height:1.4em;\n",
       "    color:#142850;\n",
       "}\n",
       "h1, h2, h3, h4 {\n",
       "    color:#27496d;\n",
       "}\n",
       "\n",
       "/*\n",
       ".prompt, .jp-InputPrompt, .jp-InputArea-prompt, .jp-OutputPrompt, .jp-OutputArea-prompt {\n",
       "    visibility: hidden; \n",
       "}\n",
       "\n",
       "\n",
       ".jp-CodeCell .jp-Notebook-cell    {\n",
       "    margin-left:10%;\n",
       "    margin-right:5%;\n",
       "}\n",
       "\n",
       "\n",
       ".jp-InputArea, .jp-OutputArea {\n",
       "    margin-left:2.5em;\n",
       "    margin-right:2.5em;\n",
       "}\n",
       "*/\n",
       "\n",
       "\n",
       "body  {\n",
       "    margin:10%;\n",
       "    counter-reset: h1counter;\n",
       "\n",
       "}\n",
       "\n",
       "/* .jp-MarkdownOutput, .text_cell_render {\n",
       "\n",
       "    background-color:#FEFBF1;    \n",
       "    border-style: solid;\n",
       "    border-width: 1px;\n",
       "    border-color: rgba(0,0,0, 0.10);;\n",
       "} */\n",
       "\n",
       "\n",
       "h1:after {\n",
       "    content: \"\"; /* This is necessary for the pseudo element to work. */ \n",
       "    display: block; /* This will put the pseudo element on its own line. */\n",
       "    /*margin: 0 auto; This will center the border. */\n",
       "    width: 50%; /* Change this to whatever width you want. */\n",
       "    padding-top: 10px;\n",
       "    border-bottom:3px solid SlateGray; /* FireBrick; */\n",
       "}\n",
       "\n",
       "h2:after {\n",
       "    content: \"\"; /* This is necessary for the pseudo element to work. */ \n",
       "    display: block; /* This will put the pseudo element on its own line. */\n",
       "    /*margin: 0 auto; This will center the border. */\n",
       "    width: 30%; /* Change this to whatever width you want. */\n",
       "    padding-top: 10px;\n",
       "    border-bottom:2px solid SlateGray; /* FireBrick; */\n",
       "}\n",
       "\n",
       "</style>"
      ],
      "text/plain": [
       "<IPython.core.display.HTML object>"
      ]
     },
     "execution_count": 5,
     "metadata": {},
     "output_type": "execute_result"
    }
   ],
   "source": [
    "dh.css()"
   ]
  },
  {
   "cell_type": "code",
   "execution_count": null,
   "id": "22f87a62-6592-4d14-9cdc-dbae11de0d50",
   "metadata": {},
   "outputs": [],
   "source": []
  }
 ],
 "metadata": {
  "kernelspec": {
   "display_name": "Python 3 (ipykernel)",
   "language": "python",
   "name": "python3"
  },
  "language_info": {
   "codemirror_mode": {
    "name": "ipython",
    "version": 3
   },
   "file_extension": ".py",
   "mimetype": "text/x-python",
   "name": "python",
   "nbconvert_exporter": "python",
   "pygments_lexer": "ipython3",
   "version": "3.9.15"
  }
 },
 "nbformat": 4,
 "nbformat_minor": 5
}
