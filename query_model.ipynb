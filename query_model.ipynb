{
 "cells": [
  {
   "cell_type": "markdown",
   "id": "a7328f2a-ecad-41d8-91fc-358a370552ed",
   "metadata": {},
   "source": [
    "# Inspiser en word2ved-modell\n",
    "\n",
    "Installer gensim og test"
   ]
  },
  {
   "cell_type": "code",
   "execution_count": 3,
   "id": "b8bf468f-d27b-46dc-a2d7-c3679da636a0",
   "metadata": {},
   "outputs": [],
   "source": [
    "from gensim.models import KeyedVectors\n",
    "from gensim import models"
   ]
  },
  {
   "cell_type": "markdown",
   "id": "ae3d91e6-0f32-4916-94b3-005edb8dae01",
   "metadata": {},
   "source": [
    "Last ned modellen og ta den inn i notebooken"
   ]
  },
  {
   "cell_type": "code",
   "execution_count": 10,
   "id": "0458181a-6fff-4ad8-93af-d516c950c345",
   "metadata": {},
   "outputs": [],
   "source": [
    "model_file = 'second_test.model' # eller annet filnavn - pass på sti\n",
    "\n",
    "model = KeyedVectors.load(model_file)    #load_word2vec_format(model_file, binary=True)"
   ]
  },
  {
   "cell_type": "markdown",
   "id": "89729a04-3cd6-4cb1-a2c6-9bca9e038fa7",
   "metadata": {},
   "source": [
    "Test med most_similar for forskjellige ord for evaluering."
   ]
  },
  {
   "cell_type": "code",
   "execution_count": 11,
   "id": "e5abe15d-d585-4e5c-89e3-a0162af634e2",
   "metadata": {},
   "outputs": [
    {
     "data": {
      "text/plain": [
       "[('mann', 0.9559749364852905),\n",
       " ('pike', 0.930963933467865),\n",
       " ('dame', 0.8851655721664429),\n",
       " ('person', 0.8842982649803162),\n",
       " ('gutt', 0.869295597076416),\n",
       " ('jente', 0.8472249507904053),\n",
       " ('fyr', 0.8416293859481812),\n",
       " ('hund', 0.8235604763031006),\n",
       " ('daaes', 0.8163796663284302),\n",
       " ('jentunge', 0.8103864789009094)]"
      ]
     },
     "execution_count": 11,
     "metadata": {},
     "output_type": "execute_result"
    }
   ],
   "source": [
    "model.wv.most_similar('kvinne', topn=10)"
   ]
  },
  {
   "cell_type": "code",
   "execution_count": null,
   "id": "0085d447-abb6-421e-a748-f18297ea024b",
   "metadata": {},
   "outputs": [],
   "source": [
    "def sentence_equality(sentences):\n",
    "    "
   ]
  }
 ],
 "metadata": {
  "kernelspec": {
   "display_name": "Python 3 (ipykernel)",
   "language": "python",
   "name": "python3"
  },
  "language_info": {
   "codemirror_mode": {
    "name": "ipython",
    "version": 3
   },
   "file_extension": ".py",
   "mimetype": "text/x-python",
   "name": "python",
   "nbconvert_exporter": "python",
   "pygments_lexer": "ipython3",
   "version": "3.9.15"
  }
 },
 "nbformat": 4,
 "nbformat_minor": 5
}
