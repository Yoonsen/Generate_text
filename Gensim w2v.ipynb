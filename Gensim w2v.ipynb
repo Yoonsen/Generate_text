{
 "cells": [
  {
   "cell_type": "code",
   "execution_count": 166,
   "id": "4a98e24e-fba7-4ebc-9ed7-741856b39290",
   "metadata": {},
   "outputs": [],
   "source": [
    "import sqlite3"
   ]
  },
  {
   "cell_type": "code",
   "execution_count": 167,
   "id": "0a2bde90-0cc5-4635-ac5b-ae29e8bccb45",
   "metadata": {},
   "outputs": [],
   "source": [
    "import dhlab as dh"
   ]
  },
  {
   "cell_type": "code",
   "execution_count": 168,
   "id": "d635df54-a88b-4bbd-b3f0-48b6fb07b697",
   "metadata": {},
   "outputs": [],
   "source": [
    "import ngrams as ng"
   ]
  },
  {
   "cell_type": "code",
   "execution_count": 169,
   "id": "309966b0-00af-4aec-9679-0270e1cac454",
   "metadata": {},
   "outputs": [],
   "source": [
    "def gen_tri(db, sql, params=()):\n",
    "    with sqlite3.connect(db) as con:\n",
    "        cur = con.cursor()\n",
    "        cur.execute(sql, params)\n",
    "    return cur"
   ]
  },
  {
   "cell_type": "code",
   "execution_count": 171,
   "id": "475cdef3-ad8b-4ba3-811c-ebbbba4a8efc",
   "metadata": {},
   "outputs": [],
   "source": [
    "from gensim.test.utils import common_texts\n",
    "from gensim.models import Word2Vec"
   ]
  },
  {
   "cell_type": "code",
   "execution_count": null,
   "id": "6f321263-d9f3-4ab4-9098-92e71ed0152c",
   "metadata": {},
   "outputs": [],
   "source": []
  },
  {
   "cell_type": "code",
   "execution_count": 170,
   "id": "fca09737-2098-4043-a68f-9da801c94cd4",
   "metadata": {},
   "outputs": [],
   "source": [
    "b = gen_tri(ng.tri, \"select first, second, third from trigram where assoc > 20\")"
   ]
  },
  {
   "cell_type": "code",
   "execution_count": null,
   "id": "8d6814fb-af4e-4647-beea-02385e75a2d2",
   "metadata": {},
   "outputs": [
    {
     "name": "stderr",
     "output_type": "stream",
     "text": [
      "Exception in thread Thread-10:\n",
      "Traceback (most recent call last):\n",
      "  File \"/home/larsj/anaconda3/lib/python3.9/threading.py\", line 980, in _bootstrap_inner\n",
      "    self.run()\n",
      "  File \"/home/larsj/anaconda3/lib/python3.9/threading.py\", line 917, in run\n",
      "    self._target(*self._args, **self._kwargs)\n",
      "  File \"/home/larsj/anaconda3/lib/python3.9/site-packages/gensim/models/word2vec.py\", line 1198, in _job_producer\n",
      "    for data_idx, data in enumerate(data_iterator):\n",
      "sqlite3.ProgrammingError: SQLite objects created in a thread can only be used in that same thread. The object was created in thread id 140340127831872 and this is thread id 140338347333184.\n"
     ]
    }
   ],
   "source": [
    "model = Word2Vec(sentences=b, vector_size=100, window=5, min_count=1, workers=4)\n",
    "model.save(\"word2vec.model\")"
   ]
  },
  {
   "cell_type": "code",
   "execution_count": null,
   "id": "2d6db1e7-0cc4-4e32-abfb-87c6542bce8f",
   "metadata": {},
   "outputs": [],
   "source": [
    "vector = model.wv['appelsiner']  # get numpy vector of a word\n",
    "sims = model.wv.most_similar('appelsiner', topn=10)  # get other similar words"
   ]
  },
  {
   "cell_type": "code",
   "execution_count": null,
   "id": "a8a301ab-ebfc-4cdd-be40-a274b6152820",
   "metadata": {},
   "outputs": [],
   "source": [
    "sims"
   ]
  }
 ],
 "metadata": {
  "kernelspec": {
   "display_name": "Python 3 (ipykernel)",
   "language": "python",
   "name": "python3"
  },
  "language_info": {
   "codemirror_mode": {
    "name": "ipython",
    "version": 3
   },
   "file_extension": ".py",
   "mimetype": "text/x-python",
   "name": "python",
   "nbconvert_exporter": "python",
   "pygments_lexer": "ipython3",
   "version": "3.9.15"
  }
 },
 "nbformat": 4,
 "nbformat_minor": 5
}
