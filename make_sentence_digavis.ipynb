{
 "cells": [
  {
   "cell_type": "code",
   "execution_count": 2,
   "id": "f26553e5-c172-4b81-915f-6bad40a1f396",
   "metadata": {},
   "outputs": [
    {
     "data": {
      "text/html": [
       "<style>@import url(http://fonts.googleapis.com/css?family=Lato|Philosopher|Montserrat|Source+Code+Pro|Merriweather|Shippori+Mincho|Istok+Web|Philosopher|Assistant:200,400,700);\n",
       "\n",
       "p {\n",
       "    font-size:1.3em;\n",
       "    font-family:serif;\n",
       "    line-height:1.4em;\n",
       "    color:#142850;\n",
       "}\n",
       "h1, h2, h3, h4 {\n",
       "    color:#27496d;\n",
       "}\n",
       "\n",
       "/*\n",
       ".prompt, .jp-InputPrompt, .jp-InputArea-prompt, .jp-OutputPrompt, .jp-OutputArea-prompt {\n",
       "    visibility: hidden; \n",
       "}\n",
       "\n",
       "\n",
       ".jp-CodeCell .jp-Notebook-cell    {\n",
       "    margin-left:10%;\n",
       "    margin-right:5%;\n",
       "}\n",
       "\n",
       "\n",
       ".jp-InputArea, .jp-OutputArea {\n",
       "    margin-left:2.5em;\n",
       "    margin-right:2.5em;\n",
       "}\n",
       "*/\n",
       "\n",
       "\n",
       "body  {\n",
       "    margin:10%;\n",
       "    counter-reset: h1counter;\n",
       "\n",
       "}\n",
       "\n",
       "/* .jp-MarkdownOutput, .text_cell_render {\n",
       "\n",
       "    background-color:#FEFBF1;    \n",
       "    border-style: solid;\n",
       "    border-width: 1px;\n",
       "    border-color: rgba(0,0,0, 0.10);;\n",
       "} */\n",
       "\n",
       "\n",
       "h1:after {\n",
       "    content: \"\"; /* This is necessary for the pseudo element to work. */ \n",
       "    display: block; /* This will put the pseudo element on its own line. */\n",
       "    /*margin: 0 auto; This will center the border. */\n",
       "    width: 50%; /* Change this to whatever width you want. */\n",
       "    padding-top: 10px;\n",
       "    border-bottom:3px solid SlateGray; /* FireBrick; */\n",
       "}\n",
       "\n",
       "h2:after {\n",
       "    content: \"\"; /* This is necessary for the pseudo element to work. */ \n",
       "    display: block; /* This will put the pseudo element on its own line. */\n",
       "    /*margin: 0 auto; This will center the border. */\n",
       "    width: 30%; /* Change this to whatever width you want. */\n",
       "    padding-top: 10px;\n",
       "    border-bottom:2px solid SlateGray; /* FireBrick; */\n",
       "}\n",
       "\n",
       "</style>"
      ],
      "text/plain": [
       "<IPython.core.display.HTML object>"
      ]
     },
     "execution_count": 2,
     "metadata": {},
     "output_type": "execute_result"
    }
   ],
   "source": [
    "import dhlab as dh\n",
    "import dhlab.api.dhlab_api as api\n",
    "import pandas as pd\n",
    "from dhlab.nbtokenizer import tokenize\n",
    "import jsonlines\n",
    "dh.css()"
   ]
  },
  {
   "cell_type": "markdown",
   "id": "ccdf5221-8446-4cef-9170-187c34fa26b6",
   "metadata": {},
   "source": [
    "# Lemmatize a set"
   ]
  },
  {
   "cell_type": "markdown",
   "id": "b24720be-6462-4503-ae11-f1d18de54ab0",
   "metadata": {},
   "source": [
    "a = dh.totals(100000)\n",
    "lemma = dh.WordLemma(list(a.index)).lemmas\n",
    "reduced_set = pd.DataFrame(lemma.merge(a.reset_index(), left_on=0, right_on='index').groupby(2)['freq'].max())\n",
    "lower_set = pd.DataFrame(reduced_set.groupby(lambda x: x.lower())['freq'].sum())\n",
    "lower_set.sort_values(by='freq', ascending=False)"
   ]
  },
  {
   "cell_type": "markdown",
   "id": "04be82f0-f105-4f61-bc16-14a9ccbb61a6",
   "metadata": {},
   "source": [
    "# Generate sentences"
   ]
  },
  {
   "cell_type": "code",
   "execution_count": 41,
   "id": "ea03f06d-fc48-4c19-8d6f-9a357e1ce3b9",
   "metadata": {},
   "outputs": [],
   "source": [
    "a = api.word_concordance(dhlabid=list(corpus.frame.sample(10).dhlabid), words = ['arbeid'])"
   ]
  },
  {
   "cell_type": "code",
   "execution_count": 4,
   "id": "1d9e5218-d222-4837-a210-36bc225b607a",
   "metadata": {},
   "outputs": [],
   "source": [
    "def show_concs(a):\n",
    "    res = []\n",
    "    for i, x in a.iterrows():\n",
    "        try:\n",
    "            res.append(' '.join([x['before'], x['target'], x['after']]))\n",
    "        except:\n",
    "            pass\n",
    "    return res"
   ]
  },
  {
   "cell_type": "code",
   "execution_count": 52,
   "id": "42962112-0ea8-46dc-a66a-73355e46810b",
   "metadata": {},
   "outputs": [],
   "source": [
    "#show_concs(a)"
   ]
  },
  {
   "cell_type": "code",
   "execution_count": 32,
   "id": "945c388a-d7de-4bbc-8e71-1b6177ab9c48",
   "metadata": {},
   "outputs": [],
   "source": [
    "def generate_word_sequences_from_corpus_word(corpus, samples, words = None, before = 12, after = 12, limit=1000):\n",
    "    sentences = api.word_concordance(dhlabid=list(corpus.sample(samples).dhlabid), words = words, before = before, after = after, limit = limit)\n",
    "    #a = sentences.show(style=False, n=limit).concordance.apply(lambda x:x.replace('<b>','').replace('</b>','')).values\n",
    "    return sentences"
   ]
  },
  {
   "cell_type": "code",
   "execution_count": 66,
   "id": "9109f171-1c84-4ed7-9d82-03d7cf95e597",
   "metadata": {},
   "outputs": [],
   "source": [
    "def generate_word_sequences_from_corpus_wkonk(corpus, samples, words = None, limit=1000):\n",
    "    sentences = api.word_concordance(dhlabid=list(corpus.sample(samples).dhlabid), words = words, before = 24, after = 0, limit = limit)\n",
    "\n",
    "    return show_concs(sentences)"
   ]
  },
  {
   "cell_type": "code",
   "execution_count": 15,
   "id": "a4a2143d-3941-411b-938f-704db1d9d332",
   "metadata": {},
   "outputs": [],
   "source": [
    "def convert(sentence, lower=False):\n",
    "    \"\"\"Tokenize i a string, turn all tokens to lower case and \n",
    "    remove punctuations and other stuff not normally part of a word\"\"\"\n",
    "    lst = tokenize(sentence)\n",
    "    lowered = [x for x in lst if x.isalpha()]\n",
    "    return lowered"
   ]
  },
  {
   "cell_type": "markdown",
   "id": "0a2c7d7c-174f-430e-983a-c01440f7e503",
   "metadata": {},
   "source": [
    "## Select corpus"
   ]
  },
  {
   "cell_type": "code",
   "execution_count": 5,
   "id": "3baf3474-9ee8-4244-971b-196c785e0c10",
   "metadata": {},
   "outputs": [],
   "source": [
    "corpus = dh.Corpus(doctype='digavis',  from_year=1978, to_year=1984, limit = 25)\n"
   ]
  },
  {
   "cell_type": "code",
   "execution_count": 6,
   "id": "cb7a577d-b362-432c-9711-897c464088cc",
   "metadata": {},
   "outputs": [
    {
     "data": {
      "text/plain": [
       "25"
      ]
     },
     "execution_count": 6,
     "metadata": {},
     "output_type": "execute_result"
    }
   ],
   "source": [
    "len(corpus.frame)"
   ]
  },
  {
   "cell_type": "code",
   "execution_count": 33,
   "id": "ad5a2c8d-95e2-45b8-833e-57882fecaf9e",
   "metadata": {},
   "outputs": [],
   "source": [
    "s = generate_word_sequences_from_corpus_word(corpus.frame, 5, words = ['og'], before =0, after=24, limit = 10)"
   ]
  },
  {
   "cell_type": "code",
   "execution_count": 41,
   "id": "b35bcf8e-265b-4cc7-8687-692a09290fe3",
   "metadata": {},
   "outputs": [
    {
     "data": {
      "text/plain": [
       "0     for mange ble vel lørdagens Wenche Myhre-show ...\n",
       "1     etter endt show skrev hun autografer i nesten ...\n",
       "2     spilte , åtte lokale grupper / personer var på...\n",
       "3     fargesprakende fra første til siste stund , og...\n",
       "4     akkurat like flott som vi hadde trodd . Wenche...\n",
       "5     opplagt , og ga alt i den , times lange sangop...\n",
       "6     ga alt i den , times lange sangopptrede- nen ....\n",
       "7     pensjonister , da disse gikk gratis . Det hele...\n",
       "8                  høyttalere var plassert rundt i hele\n",
       "9     fint repertoar , men toppen på det hele ble nå...\n",
       "10    barnehageaksjonen i bydelen har kommet med. De...\n",
       "11    en bebudet demon- strasjon I Furuset bydel , v...\n",
       "12    Kurland , som hittil har vært disponert av per...\n",
       "13    formannskapet har forlengst forkastet forslage...\n",
       "14    penger avsatt til bygging . Tilgrensende bøore...\n",
       "15    bygging settes I gang . AKTUELL OPPGAVE Dette ...\n",
       "16    finan » sutvalgets vedtak om at det skal sette...\n",
       "17    kjempe for åpning av de nye barnehagene . slår...\n",
       "18    personalet ved Gran barnehage fast . Imidlerti...\n",
       "19    Jan Crosby fra aksjonskomiteen og barnehageass...\n",
       "20                               med lavt kaloriinnhold\n",
       "21    de administrative oppgaver som han hadde da st...\n",
       "22    du beholder pengene lenger på din konto og får...\n",
       "23    får renter . Med VISA-kort kan du bruke sjekk-...\n",
       "24                                       reisesjekker .\n",
       "25    nå kan de si det på nytt - om enn i en annen b...\n",
       "26    faste arena for harde fotballdyster med store ...\n",
       "27                     en del tap ) radert ut av Borge-\n",
       "28     byr på kanskje flere hundre nye arbeidsplasser .\n",
       "29    tomteselskap ingen motforestillinger til Kjølb...\n",
       "30    Bjørn Wisth ( foto ) — Vi arbeidet intenst i h...\n",
       "31    har nå skaffet Tove Aasen og hennes to barn et...\n",
       "32    hennes to barn et midlertidig husvær i Storgat...\n",
       "33    ilden hadde fått godt tak i nordre del av den ...\n",
       "34    hennes to barn i 2. etasje var ikke hjemme . I...\n",
       "35    sov . RE & DET STEREO ANLEGGET — Jeg var ute f...\n",
       "36            merket ikke noe til Over til siste side .\n",
       "37    Klara Wilson sammen med sin sønn Knut Olav . D...\n",
       "38    er nå \\ husville , men boligkontoret regner me...\n",
       "39    foto-Ingrid Sagranden — Jeg tenkte først på ka...\n",
       "40        se høstens moter . NB ! I nye salen kl. 19.30\n",
       "41    to menn ved vaskeriet . Drifta ved vaskeriet e...\n",
       "42    det er normalt at oppdraga minkar ein god del ...\n",
       "43    Dan anger , Kvinnh era d , Stord og Skånevik ....\n",
       "44    Skånevik . ! sri Fanny venstre Per Arnø , Raal...\n",
       "45    og det ed esesong for turisthot ella , ' | BBB...\n",
       "46    det ed esesong for turisthot ella , ' | BBB To...\n",
       "47    fredag førre veke var Riksteateret innom Kvinn...\n",
       "48    fram at underhaldningsverdiar etter deira mein...\n",
       "49    kulturelle . Stykket som vart synt denne gonge...\n",
       "Name: after, dtype: object"
      ]
     },
     "execution_count": 41,
     "metadata": {},
     "output_type": "execute_result"
    }
   ],
   "source": [
    "s.after"
   ]
  },
  {
   "cell_type": "code",
   "execution_count": 38,
   "id": "f0385948-d791-409e-8360-44fafa21d916",
   "metadata": {},
   "outputs": [
    {
     "data": {
      "text/plain": [
       "\"0     None\\n1     None\\n2     None\\n3     None\\n4     None\\n5     None\\n6     None\\n7     None\\n8     None\\n9     None\\n10    None\\n11    None\\n12    None\\n13    None\\n14    None\\n15    None\\n16    None\\n17    None\\n18    None\\n19    None\\n20    None\\n21    None\\n22    None\\n23    None\\n24    None\\n25    None\\n26    None\\n27    None\\n28    None\\n29    None\\n30    None\\n31    None\\n32    None\\n33    None\\n34    None\\n35    None\\n36    None\\n37    None\\n38    None\\n39    None\\n40    None\\n41    None\\n42    None\\n43    None\\n44    None\\n45    None\\n46    None\\n47    None\\n48    None\\n49    None\\nName: before, dtype: object 0     og\\n1     og\\n2     og\\n3     og\\n4     og\\n5     og\\n6     og\\n7     og\\n8     og\\n9     og\\n10    og\\n11    og\\n12    og\\n13    og\\n14    og\\n15    og\\n16    og\\n17    og\\n18    og\\n19    og\\n20    og\\n21    og\\n22    og\\n23    og\\n24    og\\n25    og\\n26    og\\n27    og\\n28    og\\n29    og\\n30    og\\n31    og\\n32    og\\n33    og\\n34    og\\n35    og\\n36    og\\n37    og\\n38    og\\n39    og\\n40    og\\n41    og\\n42    og\\n43    og\\n44    og\\n45    og\\n46    og\\n47    og\\n48    og\\n49    og\\nName: target, dtype: object 0     for mange ble vel lørdagens Wenche Myhre-show ...\\n1     etter endt show skrev hun autografer i nesten ...\\n2     spilte , åtte lokale grupper / personer var på...\\n3     fargesprakende fra første til siste stund , og...\\n4     akkurat like flott som vi hadde trodd . Wenche...\\n5     opplagt , og ga alt i den , times lange sangop...\\n6     ga alt i den , times lange sangopptrede- nen ....\\n7     pensjonister , da disse gikk gratis . Det hele...\\n8                  høyttalere var plassert rundt i hele\\n9     fint repertoar , men toppen på det hele ble nå...\\n10    barnehageaksjonen i bydelen har kommet med. De...\\n11    en bebudet demon- strasjon I Furuset bydel , v...\\n12    Kurland , som hittil har vært disponert av per...\\n13    formannskapet har forlengst forkastet forslage...\\n14    penger avsatt til bygging . Tilgrensende bøore...\\n15    bygging settes I gang . AKTUELL OPPGAVE Dette ...\\n16    finan » sutvalgets vedtak om at det skal sette...\\n17    kjempe for åpning av de nye barnehagene . slår...\\n18    personalet ved Gran barnehage fast . Imidlerti...\\n19    Jan Crosby fra aksjonskomiteen og barnehageass...\\n20                               med lavt kaloriinnhold\\n21    de administrative oppgaver som han hadde da st...\\n22    du beholder pengene lenger på din konto og får...\\n23    får renter . Med VISA-kort kan du bruke sjekk-...\\n24                                       reisesjekker .\\n25    nå kan de si det på nytt - om enn i en annen b...\\n26    faste arena for harde fotballdyster med store ...\\n27                     en del tap ) radert ut av Borge-\\n28     byr på kanskje flere hundre nye arbeidsplasser .\\n29    tomteselskap ingen motforestillinger til Kjølb...\\n30    Bjørn Wisth ( foto ) — Vi arbeidet intenst i h...\\n31    har nå skaffet Tove Aasen og hennes to barn et...\\n32    hennes to barn et midlertidig husvær i Storgat...\\n33    ilden hadde fått godt tak i nordre del av den ...\\n34    hennes to barn i 2. etasje var ikke hjemme . I...\\n35    sov . RE & DET STEREO ANLEGGET — Jeg var ute f...\\n36            merket ikke noe til Over til siste side .\\n37    Klara Wilson sammen med sin sønn Knut Olav . D...\\n38    er nå \\\\ husville , men boligkontoret regner me...\\n39    foto-Ingrid Sagranden — Jeg tenkte først på ka...\\n40        se høstens moter . NB ! I nye salen kl. 19.30\\n41    to menn ved vaskeriet . Drifta ved vaskeriet e...\\n42    det er normalt at oppdraga minkar ein god del ...\\n43    Dan anger , Kvinnh era d , Stord og Skånevik ....\\n44    Skånevik . ! sri Fanny venstre Per Arnø , Raal...\\n45    og det ed esesong for turisthot ella , ' | BBB...\\n46    det ed esesong for turisthot ella , ' | BBB To...\\n47    fredag førre veke var Riksteateret innom Kvinn...\\n48    fram at underhaldningsverdiar etter deira mein...\\n49    kulturelle . Stykket som vart synt denne gonge...\\nName: after, dtype: object\""
      ]
     },
     "execution_count": 38,
     "metadata": {},
     "output_type": "execute_result"
    }
   ],
   "source": [
    "str(s.before) + ' ' + str(s.target) + ' ' + str(s.after)"
   ]
  },
  {
   "cell_type": "code",
   "execution_count": 63,
   "id": "bb351de4-8217-4ec2-a094-9631075dba7b",
   "metadata": {},
   "outputs": [
    {
     "data": {
      "text/plain": [
       "4434"
      ]
     },
     "execution_count": 63,
     "metadata": {},
     "output_type": "execute_result"
    }
   ],
   "source": [
    "aften = corpus.frame[corpus.frame.title.str.contains('aftenposten')]\n",
    "len(aften)"
   ]
  },
  {
   "cell_type": "markdown",
   "id": "3f76c0fd-2f14-490b-9cb4-153e6f69f3dc",
   "metadata": {},
   "source": [
    "## Generate json lines"
   ]
  },
  {
   "cell_type": "markdown",
   "id": "3efa7c7a-080d-4a86-81dd-9acd18f14b26",
   "metadata": {},
   "source": [
    "%%time\n",
    "for i in range(400):\n",
    "    if i%100 == 0:\n",
    "        print(i)\n",
    "    a = generate_word_sequences_from_corpus(aften, 100, words = ['Alta-saken'], limit=1000)\n",
    "    with open(f\"extract_digavis_aftenpost_78_84_Alta.txt\",mode='a') as wr:\n",
    "        for sent in map(convert, a):\n",
    "            wr.write(' '.join(sent))\n",
    "            wr.write('\\n')\n",
    "    "
   ]
  },
  {
   "cell_type": "code",
   "execution_count": 67,
   "id": "b29df7e2-a369-4ad4-9381-30e225ce61c3",
   "metadata": {
    "tags": []
   },
   "outputs": [
    {
     "name": "stdout",
     "output_type": "stream",
     "text": [
      "0\n",
      "CPU times: user 2.67 s, sys: 190 ms, total: 2.86 s\n",
      "Wall time: 1min 17s\n"
     ]
    }
   ],
   "source": [
    "%%time\n",
    "with open(f\"extract_digavis_aftenpost_78_84_Alta.txt\",mode='w') as wr:\n",
    "    for i in range(4):\n",
    "        if i%100 == 0:\n",
    "            print(i)\n",
    "        a = generate_word_sequences_from_corpus_wkonk(aften, 100, words = ['.'], limit=1000)\n",
    "        for sent in a:\n",
    "            wr.write(sent)\n",
    "            wr.write('\\n')\n",
    "    "
   ]
  },
  {
   "cell_type": "code",
   "execution_count": null,
   "id": "d227557c-2cce-4fc5-9c4a-3d7d7e18d6e6",
   "metadata": {},
   "outputs": [],
   "source": []
  }
 ],
 "metadata": {
  "kernelspec": {
   "display_name": "Python 3 (ipykernel)",
   "language": "python",
   "name": "python3"
  },
  "language_info": {
   "codemirror_mode": {
    "name": "ipython",
    "version": 3
   },
   "file_extension": ".py",
   "mimetype": "text/x-python",
   "name": "python",
   "nbconvert_exporter": "python",
   "pygments_lexer": "ipython3",
   "version": "3.9.15"
  }
 },
 "nbformat": 4,
 "nbformat_minor": 5
}
