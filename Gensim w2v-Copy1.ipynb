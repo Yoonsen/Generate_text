{
 "cells": [
  {
   "cell_type": "code",
   "execution_count": 1,
   "id": "4a98e24e-fba7-4ebc-9ed7-741856b39290",
   "metadata": {},
   "outputs": [],
   "source": [
    "import sqlite3"
   ]
  },
  {
   "cell_type": "code",
   "execution_count": 2,
   "id": "0a2bde90-0cc5-4635-ac5b-ae29e8bccb45",
   "metadata": {},
   "outputs": [],
   "source": [
    "import dhlab as dh"
   ]
  },
  {
   "cell_type": "code",
   "execution_count": 3,
   "id": "d635df54-a88b-4bbd-b3f0-48b6fb07b697",
   "metadata": {},
   "outputs": [],
   "source": [
    "import ngrams as ng"
   ]
  },
  {
   "cell_type": "code",
   "execution_count": 4,
   "id": "309966b0-00af-4aec-9679-0270e1cac454",
   "metadata": {},
   "outputs": [],
   "source": [
    "def gen_tri(db, sql, params=()):\n",
    "    with sqlite3.connect(db) as con:\n",
    "        cur = con.cursor()\n",
    "        cur.execute(sql, params)\n",
    "    return cur"
   ]
  },
  {
   "cell_type": "code",
   "execution_count": 5,
   "id": "475cdef3-ad8b-4ba3-811c-ebbbba4a8efc",
   "metadata": {},
   "outputs": [],
   "source": [
    "from gensim.test.utils import common_texts\n",
    "from gensim.models import Word2Vec"
   ]
  },
  {
   "cell_type": "code",
   "execution_count": null,
   "id": "6f321263-d9f3-4ab4-9098-92e71ed0152c",
   "metadata": {},
   "outputs": [],
   "source": []
  },
  {
   "cell_type": "code",
   "execution_count": 6,
   "id": "fca09737-2098-4043-a68f-9da801c94cd4",
   "metadata": {},
   "outputs": [],
   "source": [
    "b = gen_tri(ng.tri, \"select first, second, third from trigram where assoc > 20 limit 20000\")"
   ]
  },
  {
   "cell_type": "code",
   "execution_count": 31,
   "id": "d827f0d0-c4ce-435f-adca-89ae1f325499",
   "metadata": {},
   "outputs": [],
   "source": [
    "b = ng.query(ng.tri, \"select first, second, third from trigram where assoc > 20 limit 2000000\")"
   ]
  },
  {
   "cell_type": "code",
   "execution_count": 45,
   "id": "5572cfed-42a0-4317-858d-86864f366ff2",
   "metadata": {},
   "outputs": [],
   "source": [
    "a = dh.totals(30000)"
   ]
  },
  {
   "cell_type": "code",
   "execution_count": 46,
   "id": "d7b73e8c-a0bf-41e0-a514-5bf259b4c121",
   "metadata": {},
   "outputs": [
    {
     "data": {
      "text/plain": [
       "Index(['.', ',', 'i', 'og', '-', 'er', 'til', 'det', ':', 'som',\n",
       "       ...\n",
       "       'stillferdig', 'nav', 'familie-', 'Duo', 'Look', 'svares', 'Army',\n",
       "       'nøiagtig', 'fft', 'Verdenscupen'],\n",
       "      dtype='object', length=30000)"
      ]
     },
     "execution_count": 46,
     "metadata": {},
     "output_type": "execute_result"
    }
   ],
   "source": []
  },
  {
   "cell_type": "code",
   "execution_count": 43,
   "id": "8d6814fb-af4e-4647-beea-02385e75a2d2",
   "metadata": {},
   "outputs": [],
   "source": [
    "model = Word2Vec(sentences=b, vector_size=100, window=1, min_count=1, workers=4)\n",
    "model.save(\"word2vec.model\")"
   ]
  },
  {
   "cell_type": "code",
   "execution_count": 44,
   "id": "2918f499-2006-4a22-977d-68e3f77a2018",
   "metadata": {},
   "outputs": [
    {
     "data": {
      "text/plain": [
       "[('oldhistorie', 0.4473702013492584),\n",
       " ('sauren', 0.44321906566619873),\n",
       " ('fteg', 0.4226669371128082),\n",
       " ('arma', 0.41268280148506165),\n",
       " ('servanda', 0.4126083552837372),\n",
       " ('tslivsområder', 0.4115564823150635),\n",
       " ('BESTEMME', 0.39814671874046326),\n",
       " ('6,839905', 0.3978727161884308),\n",
       " ('Smuglerens', 0.39043453335762024),\n",
       " ('ptarmigan', 0.3887620270252228)]"
      ]
     },
     "execution_count": 44,
     "metadata": {},
     "output_type": "execute_result"
    }
   ],
   "source": [
    "#vector = model.wv['eple']  # get numpy vector of a word\n",
    "sims = model.wv.most_similar('narkotika', topn=10)  # get other similar words\n",
    "\n",
    "sims"
   ]
  },
  {
   "cell_type": "code",
   "execution_count": null,
   "id": "31cfe323-b212-4838-9166-53ceaa2d1bdd",
   "metadata": {},
   "outputs": [],
   "source": []
  }
 ],
 "metadata": {
  "kernelspec": {
   "display_name": "Python 3 (ipykernel)",
   "language": "python",
   "name": "python3"
  },
  "language_info": {
   "codemirror_mode": {
    "name": "ipython",
    "version": 3
   },
   "file_extension": ".py",
   "mimetype": "text/x-python",
   "name": "python",
   "nbconvert_exporter": "python",
   "pygments_lexer": "ipython3",
   "version": "3.9.15"
  }
 },
 "nbformat": 4,
 "nbformat_minor": 5
}
